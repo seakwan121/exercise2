{
  "nbformat": 4,
  "nbformat_minor": 0,
  "metadata": {
    "colab": {
      "name": "Class, def 연습.ipynb",
      "provenance": []
    },
    "kernelspec": {
      "name": "python3",
      "display_name": "Python 3"
    },
    "language_info": {
      "name": "python"
    }
  },
  "cells": [
    {
      "cell_type": "code",
      "execution_count": null,
      "metadata": {
        "colab": {
          "base_uri": "https://localhost:8080/"
        },
        "id": "CdZDj-NTFkJG",
        "outputId": "bb940cca-8c65-47ef-a1ac-579acdbce374"
      },
      "outputs": [
        {
          "output_type": "stream",
          "name": "stdout",
          "text": [
            "['test1!!!', 'test2!!!', 'test4 test5!!!', 'test3!!!']\n"
          ]
        }
      ],
      "source": [
        "def lambda_map(data):\n",
        "  lst =[]\n",
        "  for i in data:\n",
        "    lst.append(i + '!!!')\n",
        "  return lst\n",
        "\n",
        "spelling = [\"test1\", \"test2\", \"test4 test5\", \"test3\"]\n",
        "print(lambda_map(spelling))\n"
      ]
    },
    {
      "cell_type": "code",
      "source": [
        "from functools import reduce\n",
        "\n",
        "reduce(lambda x, y : y + x, 'abcde')\n",
        "\n"
      ],
      "metadata": {
        "id": "r84ZCS_wFpAJ",
        "colab": {
          "base_uri": "https://localhost:8080/",
          "height": 35
        },
        "outputId": "f5fc25f6-ac09-4ce4-a6c6-d674f20f73b9"
      },
      "execution_count": null,
      "outputs": [
        {
          "output_type": "execute_result",
          "data": {
            "application/vnd.google.colaboratory.intrinsic+json": {
              "type": "string"
            },
            "text/plain": [
              "'edcba'"
            ]
          },
          "metadata": {},
          "execution_count": 1
        }
      ]
    },
    {
      "cell_type": "code",
      "source": [
        "def div():\n",
        "  for i in range(1,16):\n",
        "    if i % 3 == 0: # i를 3으로 나눴을 때 나머지가 0인 경우\n",
        "      print('숫자',i, '=>','3으로 나눠짐')\n",
        "    elif i % 5 == 0: # i를 5로 나눴을 때 나머지가 0인 경우\n",
        "      print('숫자',i, '=>','5로 나눠짐')\n",
        "    elif (i %5==0) & (i % 3 ==0) : \n",
        "      print('3과5로 나눠짐')\n",
        "    else: \n",
        "      print('그외',i, '=>','숫자 3과 5로 나눠지지 않음')\n",
        "    \n",
        "div()\n"
      ],
      "metadata": {
        "colab": {
          "base_uri": "https://localhost:8080/"
        },
        "id": "6TPnQmxPGojQ",
        "outputId": "b0282b31-9037-43ae-c98b-145d6e87517a"
      },
      "execution_count": null,
      "outputs": [
        {
          "output_type": "stream",
          "name": "stdout",
          "text": [
            "그외 1 => 숫자 3과 5로 나눠지지 않음\n",
            "그외 2 => 숫자 3과 5로 나눠지지 않음\n",
            "숫자 3 => 3으로 나눠짐\n",
            "그외 4 => 숫자 3과 5로 나눠지지 않음\n",
            "숫자 5 => 5로 나눠짐\n",
            "숫자 6 => 3으로 나눠짐\n",
            "그외 7 => 숫자 3과 5로 나눠지지 않음\n",
            "그외 8 => 숫자 3과 5로 나눠지지 않음\n",
            "숫자 9 => 3으로 나눠짐\n",
            "숫자 10 => 5로 나눠짐\n",
            "그외 11 => 숫자 3과 5로 나눠지지 않음\n",
            "숫자 12 => 3으로 나눠짐\n",
            "그외 13 => 숫자 3과 5로 나눠지지 않음\n",
            "그외 14 => 숫자 3과 5로 나눠지지 않음\n",
            "숫자 15 => 3으로 나눠짐\n"
          ]
        }
      ]
    },
    {
      "cell_type": "code",
      "source": [
        "import random\n",
        "\n",
        "def rock_sciss_paper():\n",
        "    def show_welcome_message():\n",
        "        print(welcome_message)\n",
        "\n",
        "    def get_user_choice():\n",
        "        user_choice = input(\"입력 : \")\n",
        "        if user_choice != '가위' and user_choice != '바위' and user_choice != '보' and user_choice != '게임종료':\n",
        "            print(\"가위, 바위, 보 중에 하나를 입력해주세요\")\n",
        "\n",
        "        else:\n",
        "            return user_choice\n",
        "\n",
        "    def quit_game():\n",
        "        global score\n",
        "        print(quit_message)\n",
        "        print(\"게임결과\")\n",
        "        print(\"-----\")\n",
        "        print(f\"최종점수 {score}점 입니다\")\n",
        "\n",
        "    def compare_choices_and_get_result(user_choice, computer_choice):\n",
        "\n",
        "        if user_choice == computer_choice:\n",
        "            return (tie_message)\n",
        "        elif user_choice == '가위':\n",
        "            if computer_choice == '바위':\n",
        "                return (loss_message)\n",
        "            elif computer_choice == '보':\n",
        "                return (win_message)\n",
        "        elif user_choice == '바위':\n",
        "            if computer_choice == '보':\n",
        "                return (loss_message)\n",
        "            elif computer_choice == '가위':\n",
        "                return (win_message)\n",
        "        elif user_choice == '보':\n",
        "            if computer_choice == '가위':\n",
        "                return (loss_message)\n",
        "            elif computer_choice == '바위':\n",
        "                return (win_message)\n",
        "\n",
        "    def display_result_message_and_update_score(result):\n",
        "        global score\n",
        "        print(result)\n",
        "        if result == win_message:\n",
        "            score += 1\n",
        "        print(f\"{score}점 입니다\")\n",
        "\n",
        "####################################################################\n",
        "\n",
        "    global score\n",
        "    score = 0\n",
        "\n",
        "    welcome_message = \"가위바위보 게임을 시작합니다.\"\n",
        "    win_message = \"사용자가 이겼습니다.\"\n",
        "    loss_message = \"사용자가 졌습니다.\"\n",
        "    tie_message = \"무승부입니다.\"\n",
        "    quit_message = \"게임을 종료합니다.\"\n",
        "\n",
        "    # choice_options = pass\n",
        "    user_choice = ''\n",
        "\n",
        "    show_welcome_message()\n",
        "\n",
        "    while True:\n",
        "        keys = ['가위', '바위', '보']\n",
        "        computer_choice = random.choice(keys)\n",
        "        user_choice = get_user_choice()\n",
        "        if user_choice != '게임종료':\n",
        "            result = compare_choices_and_get_result(user_choice, computer_choice)\n",
        "            display_result_message_and_update_score(result)\n",
        "        elif user_choice == '게임종료':\n",
        "            break\n",
        "    print('')\n",
        "    quit_game()\n",
        "\n",
        "if __name__ == \"__main__\":\n",
        "    rock_sciss_paper()"
      ],
      "metadata": {
        "id": "x8TxRR8kNMCC",
        "colab": {
          "base_uri": "https://localhost:8080/"
        },
        "outputId": "3c252295-4b37-434e-9001-875cd47ff749"
      },
      "execution_count": null,
      "outputs": [
        {
          "output_type": "stream",
          "name": "stdout",
          "text": [
            "가위바위보 게임을 시작합니다.\n",
            "입력 : 가위\n",
            "무승부입니다.\n",
            "0점 입니다\n",
            "입력 : 바위\n",
            "사용자가 졌습니다.\n",
            "0점 입니다\n",
            "입력 : 보\n",
            "무승부입니다.\n",
            "0점 입니다\n",
            "입력 : 보\n",
            "사용자가 이겼습니다.\n",
            "1점 입니다\n",
            "입력 : 보\n",
            "무승부입니다.\n",
            "1점 입니다\n",
            "입력 : 보\n",
            "사용자가 졌습니다.\n",
            "1점 입니다\n",
            "입력 : 보\n",
            "무승부입니다.\n",
            "1점 입니다\n",
            "입력 : 보\n",
            "사용자가 졌습니다.\n",
            "1점 입니다\n",
            "입력 : 게임종료\n",
            "\n",
            "게임을 종료합니다.\n",
            "게임결과\n",
            "-----\n",
            "최종점수 1점 입니다\n"
          ]
        }
      ]
    },
    {
      "cell_type": "code",
      "source": [
        "names = ['amy', 'jane', 'sophia', 'jay']\n",
        "scores = [7, 9, 5, 10]\n",
        "pas = ['PASS' if i > 7 else 'NO PASS' for i in scores]\n",
        "\n",
        "pas\n",
        " #리스트 컴프리헨션 사용해서 만들고 원하는 결과는 ['NO PASS','PASS','NO PASS','PASS']\n"
      ],
      "metadata": {
        "colab": {
          "base_uri": "https://localhost:8080/"
        },
        "id": "L_adB9Ie1jTS",
        "outputId": "36ad57f8-c2b5-498b-91e9-a5e58b5c0325"
      },
      "execution_count": null,
      "outputs": [
        {
          "output_type": "execute_result",
          "data": {
            "text/plain": [
              "['NO PASS', 'PASS', 'NO PASS', 'PASS']"
            ]
          },
          "metadata": {},
          "execution_count": 7
        }
      ]
    },
    {
      "cell_type": "code",
      "source": [
        "\"\"\"\n",
        "아래의 test 딕셔너리를 사용해서 아래처럼 출력되도록 만드시오.\n",
        "test = {'A': 5, 1: 'B', 'C': 9, 'D': 6, 5: 'E', 'F': 'G', 3:9} \n",
        "result = {'A': 5, 'B': 1, 'C': 9, 'D': 6, 'E': 5}\n",
        "\"\"\"\n",
        "test = {'A': 5, 1: 'B', 'C': 9, 'D': 6, 5: 'E', 'F': 'G', 3:9} \n",
        "result = {}\n",
        "for i, (k, v) in enumerate(test.items()):\n",
        "    if i < len(test)-2:\n",
        "        if type(k) == int:\n",
        "            result[v] = k\n",
        "        else:\n",
        "            result[k] = v\n",
        "result"
      ],
      "metadata": {
        "colab": {
          "base_uri": "https://localhost:8080/"
        },
        "id": "I69ZGvj_Q0qi",
        "outputId": "6782c7c8-1e1b-4cbe-89e4-b0eacb5eb8dc"
      },
      "execution_count": null,
      "outputs": [
        {
          "output_type": "execute_result",
          "data": {
            "text/plain": [
              "{'A': 5, 'B': 1, 'C': 9, 'D': 6, 'E': 5}"
            ]
          },
          "metadata": {},
          "execution_count": 16
        }
      ]
    },
    {
      "cell_type": "code",
      "source": [
        "test = {'A': 5, 1: 'B', 'C': 9, 'D': 6, 5: 'E', 'F': 'G', 3:9} \n",
        "for k, v in test.items() :\n",
        "  if type(k) != str and type(v) == str :\n",
        "    result[v] = k\n",
        "  elif type(k) == str and type(v) == int :\n",
        "    result[k] = v\n",
        "\n",
        "result"
      ],
      "metadata": {
        "colab": {
          "base_uri": "https://localhost:8080/"
        },
        "id": "i1DLR68QUvuy",
        "outputId": "b656e101-39a3-4c4c-aa53-1197e589129d"
      },
      "execution_count": null,
      "outputs": [
        {
          "output_type": "execute_result",
          "data": {
            "text/plain": [
              "{'A': 5, 'B': 1, 'C': 9, 'D': 6, 'E': 5}"
            ]
          },
          "metadata": {},
          "execution_count": 17
        }
      ]
    },
    {
      "cell_type": "code",
      "source": [
        "test = {'A': 5, 1: 'B', 'C': 9, 'D': 6, 5: 'E', 'F': 'G', 3:9}\n",
        "list_key = []\n",
        "list_val = []\n",
        "for k, v in test.items():\n",
        "    \n",
        "    if type(k) == int:\n",
        "        list_val.append(k)\n",
        "    else :\n",
        "        list_key.append(k)\n",
        "    if type(v) == int:\n",
        "        list_val.append(v)\n",
        "    else :\n",
        "        list_key.append(v)\n",
        "    \n",
        "print(dict(zip(list_key,list_val)))\n"
      ],
      "metadata": {
        "id": "H8lFOMkdVREU",
        "outputId": "df04505b-6622-431b-a57c-3ec629c80fa2",
        "colab": {
          "base_uri": "https://localhost:8080/"
        }
      },
      "execution_count": null,
      "outputs": [
        {
          "output_type": "stream",
          "name": "stdout",
          "text": [
            "{'A': 5, 'B': 1, 'C': 9, 'D': 6, 'E': 5, 'F': 3, 'G': 9}\n"
          ]
        }
      ]
    },
    {
      "cell_type": "code",
      "source": [
        "result = {}\n",
        "for i, (k, v) in enumerate(test.items()):\n",
        "    if i < len(test)-2:\n",
        "        if type(k) == int:\n",
        "            result[v] = k\n",
        "        else:\n",
        "            result[k] = v\n",
        "result\n"
      ],
      "metadata": {
        "id": "_n4kXAu1VU57",
        "colab": {
          "base_uri": "https://localhost:8080/"
        },
        "outputId": "48789613-6d7e-4e1e-dd7a-325a8837249a"
      },
      "execution_count": null,
      "outputs": [
        {
          "output_type": "execute_result",
          "data": {
            "text/plain": [
              "{'A': 5, 'B': 1, 'C': 9, 'D': 6, 'E': 5}"
            ]
          },
          "metadata": {},
          "execution_count": 3
        }
      ]
    },
    {
      "cell_type": "code",
      "source": [
        "test = {'A': 5, '1': 'B', 'C': 9, 'D': 6, '5': 'E', 'F': 'G', '3':'9'}\n",
        "result = {}\n",
        "for i, (k, v) in enumerate(test.items()):\n",
        "    if i < len(test)-2:\n",
        "        if not k.isalpha():\n",
        "            result[v] = int(k)\n",
        "        else:\n",
        "            result[k] = v\n",
        "result"
      ],
      "metadata": {
        "colab": {
          "base_uri": "https://localhost:8080/"
        },
        "id": "WoZdCL5DOl7s",
        "outputId": "7e35038f-9070-4a8e-d646-cdb05721f839"
      },
      "execution_count": null,
      "outputs": [
        {
          "output_type": "execute_result",
          "data": {
            "text/plain": [
              "{'A': 5, 'B': 1, 'C': 9, 'D': 6, 'E': 5}"
            ]
          },
          "metadata": {},
          "execution_count": 12
        }
      ]
    },
    {
      "cell_type": "code",
      "source": [
        "test = {'A': 5, '1': 'B', 'C': 9, 'D': 6, '5': 'E', 'F': 'G', '3':'9'} \n",
        "# result = {'A': 5, 'B': 1, 'C': 9, 'D': 6, 'E': 5}\n",
        "result = {}\n",
        "for i, (k, v) in enumerate(test.items()):\n",
        "    if i < len(test)-2:\n",
        "        if k.isdigit():\n",
        "            result[v] = k\n",
        "        else:\n",
        "            result[k] = v\n",
        "result"
      ],
      "metadata": {
        "colab": {
          "base_uri": "https://localhost:8080/"
        },
        "id": "QWXZjL_3PHvD",
        "outputId": "58e3603d-329f-4c10-b4c0-069edc26bfaf"
      },
      "execution_count": null,
      "outputs": [
        {
          "output_type": "execute_result",
          "data": {
            "text/plain": [
              "{'A': 5, 'B': '1', 'C': 9, 'D': 6, 'E': '5'}"
            ]
          },
          "metadata": {},
          "execution_count": 18
        }
      ]
    },
    {
      "cell_type": "code",
      "source": [
        "test = {'A': 5, '1': 'B', 'C': 9, 'D': 6, '5': 'E', 'F': 'G', '3':'9'} \n",
        "result={}\n",
        "for k, v in test.items():\n",
        "    if str(k).isdigit() == True and str(v).isdigit() == False:\n",
        "        result[v] = int(k)\n",
        "    elif str(k).isdigit() == False and str(v).isdigit() == True:\n",
        "        result[k] = int(v)\n",
        "print(result)"
      ],
      "metadata": {
        "colab": {
          "base_uri": "https://localhost:8080/"
        },
        "id": "-_PXpNCtQqND",
        "outputId": "28892d7d-dd87-4ee6-cdaa-24d2c12133bd"
      },
      "execution_count": null,
      "outputs": [
        {
          "output_type": "stream",
          "name": "stdout",
          "text": [
            "{'A': 5, 'B': 1, 'C': 9, 'D': 6, 'E': 5}\n"
          ]
        }
      ]
    },
    {
      "cell_type": "code",
      "source": [
        "result = {}\n",
        "for i, (k, v) in enumerate(test.items()):\n",
        "    if (str(k).isalpha() and str(v).isdigit()) or (str(k).isdigit() and str(v).isalpha()):\n",
        "        if not k.isalpha():\n",
        "            result[v] = int(k)\n",
        "        else:\n",
        "            result[k] = v\n",
        "result"
      ],
      "metadata": {
        "colab": {
          "base_uri": "https://localhost:8080/"
        },
        "id": "F2eJnn7HTprF",
        "outputId": "152974c6-a8c7-40b4-ee1e-8436731a64e5"
      },
      "execution_count": null,
      "outputs": [
        {
          "output_type": "execute_result",
          "data": {
            "text/plain": [
              "{'A': 5, 'B': 1, 'C': 9, 'D': 6, 'E': 5}"
            ]
          },
          "metadata": {},
          "execution_count": 20
        }
      ]
    },
    {
      "cell_type": "code",
      "source": [
        "test = {'A': '5', '1': 'B', 'C': 9, 'D': 6, '5': 'E', 'F': 'G', '3':'9'} \n",
        "# result = {'A': 5, 'B': 1, 'C': 9, 'D': 6, 'E': 5}\n",
        "# test = {'F': 'G', '3':'9', 'A': 5, '1': 'B', 'C': 9, 'D': 6, '5': 'E'} \n",
        "result = dict()\n",
        "for a, b in test.items():\n",
        "    try:\n",
        "        # 첫번째 if에서 오류발생시 바로 두번째 if돌지않고 except로 넘어가는지?\n",
        "        # 현재 코드는 모든 케이스(ex. {'A': '5'}) 고려하지 않은 코드로\n",
        "        # 해당 케이스도 원하는 결과가 나오도록 코드를 수정해야한다.\n",
        "        if int(a):\n",
        "            a = int(a)\n",
        "        if int(b):\n",
        "            b = int(b)\n",
        "    except:        \n",
        "        pass\n",
        "    if type(a) != type(b):\n",
        "        if isinstance(b, str):\n",
        "            result[b] = a\n",
        "        else:\n",
        "            result[a] = b\n",
        "\n",
        "print(result)\n"
      ],
      "metadata": {
        "colab": {
          "base_uri": "https://localhost:8080/"
        },
        "id": "FOGTyoJtTrV8",
        "outputId": "5cc4a9c0-9bd6-4368-ec60-1413f4874cbf"
      },
      "execution_count": null,
      "outputs": [
        {
          "output_type": "stream",
          "name": "stdout",
          "text": [
            "{'B': 1, 'C': 9, 'D': 6, 'E': 5}\n"
          ]
        }
      ]
    },
    {
      "cell_type": "code",
      "source": [
        "# 총 설계도 작성\n",
        "class Gun():\n",
        "  # 생성시 총알을 담는 변수를 만들어준다\n",
        "  def __init__(self):\n",
        "    self.bullet = 0\n",
        "  # 총알\n",
        "  def charge(self, num):\n",
        "    self.bullet += num\n",
        "    print(num, '발 충전 되었습니다.')\n",
        "  # 총알 사용시 총알이 줄어들게 하기\n",
        "  def shoot(self, num):\n",
        "    for i in range(num):\n",
        "      if self.bullet > 0:\n",
        "        print('탕!')\n",
        "        self.bullet -= 1\n",
        "      elif self.bullet == 0:\n",
        "        print('총알이 없습니다')\n",
        "      break\n",
        "\n",
        "  def check(self):\n",
        "    print(f'총알이 {self.bullet}개 남았습니다')"
      ],
      "metadata": {
        "id": "gNtbjM5yTxoM"
      },
      "execution_count": 18,
      "outputs": []
    },
    {
      "cell_type": "code",
      "source": [
        "class Gorilla():\n",
        "    def __init__(self):\n",
        "        self.banana = 0\n",
        "\n",
        "    def eat(self, n):\n",
        "        if self.banana >= n:\n",
        "            self.banana += n\n",
        "            print(f'바나나를 {n}개 먹었습니다.')\n",
        "        else:\n",
        "            print('현재 바나나 개수 : ', self.banana)\n",
        "            print('바나나가 부족합니다')\n",
        "    \n",
        "    def shout(self, n):\n",
        "        for i in range(n):\n",
        "            if self.banana <= 0:\n",
        "                print('배가 고파 소리를 지를 수 없습니다.')\n",
        "            self.banana -= 1\n",
        "            print(\"우와 ~~~~\")"
      ],
      "metadata": {
        "id": "NmY35mnebPiQ"
      },
      "execution_count": 27,
      "outputs": []
    },
    {
      "cell_type": "code",
      "source": [
        "class Gorilla():\n",
        "    def __init__(self):\n",
        "        self.banana = 0\n",
        "\n",
        "    def eat(self, num):\n",
        "        self.banana += num\n",
        "        print(f'바나나 {num}개를 먹었습니다.')\n",
        "\n",
        "    def shout(self, num):\n",
        "        for i in range(num):\n",
        "            if self.banana > 0:\n",
        "                print('우와 ~~~~')\n",
        "                self.banana -= 1\n",
        "\n",
        "            elif self.banana == 0:\n",
        "                print('배가고파 소리를 지를 수 없습니다.')\n",
        "                break"
      ],
      "metadata": {
        "id": "VCvbxlXFcXNh"
      },
      "execution_count": 28,
      "outputs": []
    },
    {
      "cell_type": "code",
      "source": [
        "class Card():\n",
        "  def __init__(self):\n",
        "    self.bullet = 0\n",
        "    print('카드가 발급 되었습니다')\n",
        "  def charge(self, num):\n",
        "    self.bullet += num\n",
        "    print(self.bullet, '원이 충전되었습니다')\n",
        "  def consume(self, num):\n",
        "    if self.bullet >= num:\n",
        "        self.bullet -= num\n",
        "        print(num, '원 사용되었습니다. 잔액은 ',self.bullet, '원 남았습니다')\n",
        "    elif self.bullet > num:\n",
        "      print('잔액이 부족합니다')"
      ],
      "metadata": {
        "id": "Mq8Zhk7VcjlH"
      },
      "execution_count": 34,
      "outputs": []
    },
    {
      "cell_type": "code",
      "source": [
        "card1 = Card()\n",
        "card1.charge(10000)\n",
        "card1.consume(1400)\n",
        "card1.consume(10000)"
      ],
      "metadata": {
        "colab": {
          "base_uri": "https://localhost:8080/"
        },
        "id": "zkk9xK64d4Rw",
        "outputId": "1d86dae6-fab3-4e2c-e3b4-1c3f56c1934f"
      },
      "execution_count": 35,
      "outputs": [
        {
          "output_type": "stream",
          "name": "stdout",
          "text": [
            "카드가 발급 되었습니다\n",
            "10000 원이 충전되었습니다\n",
            "1400 원 사용되었습니다. 잔액은  8600 원 남았습니다\n"
          ]
        }
      ]
    },
    {
      "cell_type": "code",
      "source": [
        "class Card(): # 편의점\n",
        "  def __init__(self):\n",
        "    self.bullet = 0\n",
        "    print('카드가 발급 되었습니다')\n",
        "  def charge(self, num):\n",
        "    self.bullet += num\n",
        "    print(self.bullet, '원이 충전되었습니다')\n",
        "  def consume(self, num, place):\n",
        "    if self.bullet >= num:\n",
        "        if place == '편의점':\n",
        "          num = int(num*0.9)\n",
        "          self.bullet -= num\n",
        "          print(place, '에서 10% 할인되어', num, '원 사용되었습니다')\n",
        "          print('잔액은', self.bullet, '원 남았습니다')\n",
        "        else:\n",
        "          self.bullet -= num\n",
        "          print(num, '원 사용되었습니다. 잔액은 ',self.bullet, '원 남았습니다')\n",
        "    elif self.bullet > num:\n",
        "      print('잔액이 부족합니다')"
      ],
      "metadata": {
        "id": "JKr4ZB7eeIsw"
      },
      "execution_count": 38,
      "outputs": []
    },
    {
      "cell_type": "code",
      "source": [
        "card1 = Card()\n",
        "card1.charge(10000)\n",
        "card1.consume(2000, '편의점')\n",
        "card1.consume(2000, '영화')"
      ],
      "metadata": {
        "colab": {
          "base_uri": "https://localhost:8080/"
        },
        "id": "eD5deQNxeVM0",
        "outputId": "ce1aa542-e45c-4b47-86e7-b88acba4dad4"
      },
      "execution_count": 39,
      "outputs": [
        {
          "output_type": "stream",
          "name": "stdout",
          "text": [
            "카드가 발급 되었습니다\n",
            "10000 원이 충전되었습니다\n",
            "편의점 에서 10% 할인되어 1800 원 사용되었습니다\n",
            "잔액은 8200 원 남았습니다\n",
            "2000 원 사용되었습니다. 잔액은  6200 원 남았습니다\n"
          ]
        }
      ]
    },
    {
      "cell_type": "code",
      "source": [
        "class Card(): # 넷플릭스\n",
        "  def __init__(self):\n",
        "    self.bullet = 0\n",
        "    print('카드가 발급 되었습니다')\n",
        "  def charge(self, num):\n",
        "    self.bullet += num\n",
        "    print(self.bullet, '원이 충전되었습니다')\n",
        "  def consume(self, num, place):\n",
        "    if self.bullet >= num:\n",
        "        if place == '넷플릭스':\n",
        "          num = int(num*0.7)\n",
        "          self.bullet -= num\n",
        "          print(place, '에서 10% 할인되어', num, '원 사용되었습니다')\n",
        "          print('잔액은', self.bullet, '원 남았습니다')\n",
        "        else:\n",
        "          self.bullet -= num\n",
        "          print(num, '원 사용되었습니다. 잔액은 ',self.bullet, '원 남았습니다')\n",
        "    elif self.bullet > num:\n",
        "      print('잔액이 부족합니다')"
      ],
      "metadata": {
        "id": "LBIGw9RRe7L5"
      },
      "execution_count": 40,
      "outputs": []
    },
    {
      "cell_type": "code",
      "source": [
        "card1 = Card()\n",
        "card1.charge(10000)\n",
        "card1.consume(2000, '편의점')\n",
        "card1.consume(8000, '넷플릭스')"
      ],
      "metadata": {
        "colab": {
          "base_uri": "https://localhost:8080/"
        },
        "id": "yES6apCXfCAJ",
        "outputId": "4530a2fc-32ad-4f65-f1d5-fe191f638acc"
      },
      "execution_count": 41,
      "outputs": [
        {
          "output_type": "stream",
          "name": "stdout",
          "text": [
            "카드가 발급 되었습니다\n",
            "10000 원이 충전되었습니다\n",
            "2000 원 사용되었습니다. 잔액은  8000 원 남았습니다\n",
            "넷플릭스 에서 10% 할인되어 5600 원 사용되었습니다\n",
            "잔액은 2400 원 남았습니다\n"
          ]
        }
      ]
    },
    {
      "cell_type": "code",
      "source": [
        "class Card():\n",
        "  def __init__(self):\n",
        "    self.bullet = 0\n",
        "    print('카드가 발급 되었습니다')\n",
        "  def charge(self, num):\n",
        "    self.bullet += num\n",
        "    print(self.bullet, '원이 충전되었습니다')\n",
        "  def consume(self, num):\n",
        "    if self.bullet >= num:\n",
        "        self.bullet -= num\n",
        "        print(num, '원 사용되었습니다. 잔액은 ',self.bullet, '원 남았습니다')\n",
        "    elif self.bullet > num:\n",
        "      print('잔액이 부족합니다')"
      ],
      "metadata": {
        "id": "dlNzBWTGfFOB"
      },
      "execution_count": 42,
      "outputs": []
    },
    {
      "cell_type": "code",
      "source": [
        "    def consume(self, num, place):\n",
        "        if self.bullet >= num:\n",
        "            if place == '넷플릭스':\n",
        "                num = int(num*0.7)\n",
        "                self.bullet -= num\n",
        "                print(place, '에서 30% 할인되어', num, '원 사용되었습니다.')\n",
        "                print('잔액은', self.bullet, '원 남았습니다.')\n",
        "            else:\n",
        "                self.bullet -= num\n",
        "                print(num, '원 사용되었습니다. 잔액은 ', self.bullet, '원 남았습니다.')\n",
        "        elif self.bullet < num:\n",
        "            print('잔액이 없습니다.')\n"
      ],
      "metadata": {
        "id": "ObRvi1rVfL7w"
      },
      "execution_count": 51,
      "outputs": []
    },
    {
      "cell_type": "code",
      "source": [
        ""
      ],
      "metadata": {
        "id": "DNLA67-lfWzC"
      },
      "execution_count": null,
      "outputs": []
    }
  ]
}