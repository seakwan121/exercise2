{
  "nbformat": 4,
  "nbformat_minor": 0,
  "metadata": {
    "colab": {
      "name": "회귀, R^2, 과대적합, 과소적합.ipynb",
      "provenance": []
    },
    "kernelspec": {
      "name": "python3",
      "display_name": "Python 3"
    },
    "language_info": {
      "name": "python"
    }
  },
  "cells": [
    {
      "cell_type": "markdown",
      "metadata": {
        "id": "PsT9VSxoEmpu"
      },
      "source": [
        "# **회귀**"
      ]
    },
    {
      "cell_type": "code",
      "metadata": {
        "id": "fT81FWADEg6v"
      },
      "source": [
        "import numpy as np\n",
        "perch_length = np.array([8.4, 13.7, 15.0, 16.2, 17.4, 18.0, 18.7, 19.0, 19.6, 20.0, 21.0,\n",
        "       21.0, 21.0, 21.3, 22.0, 22.0, 22.0, 22.0, 22.0, 22.5, 22.5, 22.7,\n",
        "       23.0, 23.5, 24.0, 24.0, 24.6, 25.0, 25.6, 26.5, 27.3, 27.5, 27.5,\n",
        "       27.5, 28.0, 28.7, 30.0, 32.8, 34.5, 35.0, 36.5, 36.0, 37.0, 37.0,\n",
        "       39.0, 39.0, 39.0, 40.0, 40.0, 40.0, 40.0, 42.0, 43.0, 43.0, 43.5,\n",
        "       44.0])\n",
        "perch_weight = np.array([5.9, 32.0, 40.0, 51.5, 70.0, 100.0, 78.0, 80.0, 85.0, 85.0, 110.0,\n",
        "       115.0, 125.0, 130.0, 120.0, 120.0, 130.0, 135.0, 110.0, 130.0,\n",
        "       150.0, 145.0, 150.0, 170.0, 225.0, 145.0, 188.0, 180.0, 197.0,\n",
        "       218.0, 300.0, 260.0, 265.0, 250.0, 250.0, 300.0, 320.0, 514.0,\n",
        "       556.0, 840.0, 685.0, 700.0, 700.0, 690.0, 900.0, 650.0, 820.0,\n",
        "       850.0, 900.0, 1015.0, 820.0, 1100.0, 1000.0, 1100.0, 1000.0,\n",
        "       1000.0])"
      ],
      "execution_count": 2,
      "outputs": []
    },
    {
      "cell_type": "code",
      "metadata": {
        "colab": {
          "base_uri": "https://localhost:8080/",
          "height": 281
        },
        "id": "oiQ_oQqhErV6",
        "outputId": "7ad8d700-8785-4f01-ca7b-302f4709c562"
      },
      "source": [
        "import matplotlib.pyplot as plt\n",
        "\n",
        "plt.scatter(perch_length, perch_weight)"
      ],
      "execution_count": 3,
      "outputs": [
        {
          "output_type": "execute_result",
          "data": {
            "text/plain": [
              "<matplotlib.collections.PathCollection at 0x7fcc46dbdd10>"
            ]
          },
          "metadata": {},
          "execution_count": 3
        },
        {
          "output_type": "display_data",
          "data": {
            "image/png": "[encoded data removed]",
            "text/plain": [
              "<Figure size 432x288 with 1 Axes>"
            ]
          },
          "metadata": {
            "needs_background": "light"
          }
        }
      ]
    },
    {
      "cell_type": "code",
      "metadata": {
        "id": "irxxAocbE2pX"
      },
      "source": [
        "# 농어의 길이가 커짐에 따라 무게도 늘어남"
      ],
      "execution_count": 4,
      "outputs": []
    },
    {
      "cell_type": "code",
      "metadata": {
        "id": "pv9oZ9XDE8T8"
      },
      "source": [
        "# 훈련 세트와 테스트 세트로 나누기"
      ],
      "execution_count": 5,
      "outputs": []
    },
    {
      "cell_type": "code",
      "metadata": {
        "id": "dzvASmnbE-qV"
      },
      "source": [
        "from sklearn.model_selection import train_test_split\n",
        "train_input, test_input, train_target, test_target = train_test_split(\n",
        "    perch_length, perch_weight, random_state=42)"
      ],
      "execution_count": 7,
      "outputs": []
    },
    {
      "cell_type": "code",
      "metadata": {
        "id": "xD-Au1IzFOMk"
      },
      "source": [
        "# 특성이 1개만 사용하므로 2차원 배열로 만들어줘야함 reshape()"
      ],
      "execution_count": 8,
      "outputs": []
    },
    {
      "cell_type": "code",
      "metadata": {
        "colab": {
          "base_uri": "https://localhost:8080/"
        },
        "id": "Fty1m_TmFj-k",
        "outputId": "9d0a0373-7397-45ce-b508-bad217d5c0d4"
      },
      "source": [
        "test_array = np.array([1,2,3,4])\n",
        "print(test_array.shape) \n",
        "# 배열 4개"
      ],
      "execution_count": 9,
      "outputs": [
        {
          "output_type": "stream",
          "name": "stdout",
          "text": [
            "(4,)\n"
          ]
        }
      ]
    },
    {
      "cell_type": "code",
      "metadata": {
        "colab": {
          "base_uri": "https://localhost:8080/"
        },
        "id": "AORdoqrxFp1d",
        "outputId": "97985e27-f455-47aa-f4ec-20d8c956c08a"
      },
      "source": [
        "test_array = test_array.reshape(2, 2)\n",
        "test_array.shape\n",
        "# 2, 2의 크기로 변경"
      ],
      "execution_count": 11,
      "outputs": [
        {
          "output_type": "execute_result",
          "data": {
            "text/plain": [
              "(2, 2)"
            ]
          },
          "metadata": {},
          "execution_count": 11
        }
      ]
    },
    {
      "cell_type": "code",
      "metadata": {
        "id": "0bd8FdsbF17d"
      },
      "source": [
        "# 위 처럼 변경해주기"
      ],
      "execution_count": 12,
      "outputs": []
    },
    {
      "cell_type": "code",
      "metadata": {
        "colab": {
          "base_uri": "https://localhost:8080/"
        },
        "id": "i-uxPTsoGBsO",
        "outputId": "d6aa7a45-b07a-489c-aab5-1e1b583b075f"
      },
      "source": [
        "train_input = train_input.reshape(-1, 1)\n",
        "test_input = test_input.reshape(-1, 1)\n",
        "print(train_input.shape, test_input.shape)"
      ],
      "execution_count": 13,
      "outputs": [
        {
          "output_type": "stream",
          "name": "stdout",
          "text": [
            "(42, 1) (14, 1)\n"
          ]
        }
      ]
    },
    {
      "cell_type": "markdown",
      "metadata": {
        "id": "kG0zlRD7GQkm"
      },
      "source": [
        "**결정계수R^2**"
      ]
    },
    {
      "cell_type": "code",
      "metadata": {
        "colab": {
          "base_uri": "https://localhost:8080/"
        },
        "id": "Vws79KlKGOBd",
        "outputId": "b7998030-8623-45c4-b9ba-ba3f7a70f0e1"
      },
      "source": [
        "from sklearn.neighbors import KNeighborsRegressor\n",
        "\n",
        "knr = KNeighborsRegressor()\n",
        "\n",
        "knr.fit(train_input, train_target)\n",
        "print(knr.score(test_input, test_target))"
      ],
      "execution_count": 16,
      "outputs": [
        {
          "output_type": "stream",
          "name": "stdout",
          "text": [
            "0.9928094061010639\n"
          ]
        }
      ]
    },
    {
      "cell_type": "code",
      "metadata": {
        "id": "ycklCGqIGjxl"
      },
      "source": [
        "# 위 점수는 테스트 세트에 있는 샘플을 분류한 개수의 비율 (정확도)"
      ],
      "execution_count": 17,
      "outputs": []
    },
    {
      "cell_type": "code",
      "metadata": {
        "colab": {
          "base_uri": "https://localhost:8080/"
        },
        "id": "8QcCkutzG-Z8",
        "outputId": "df95d2fc-a2c6-4b36-9237-c7ec2f26381e"
      },
      "source": [
        "from sklearn.metrics import  mean_absolute_error # 타깃과 예측의 절댓갑 오차를 평균으로 반환\n",
        "\n",
        "# 테스트 세트에 대한 예측을 만듬\n",
        "test_prediction = knr.predict(test_input)\n",
        "\n",
        "# 테스트 세트에 대한 평균 절댓값 오차를 계산\n",
        "mae = mean_absolute_error(test_target, test_prediction)\n",
        "print(mae)"
      ],
      "execution_count": 20,
      "outputs": [
        {
          "output_type": "stream",
          "name": "stdout",
          "text": [
            "19.157142857142862\n"
          ]
        }
      ]
    },
    {
      "cell_type": "code",
      "metadata": {
        "id": "5hgog_nmHXEV"
      },
      "source": [
        "# 결과에서 예측이 평균적으로 19g 정도로 타깃값과 다름"
      ],
      "execution_count": 21,
      "outputs": []
    },
    {
      "cell_type": "markdown",
      "metadata": {
        "id": "ktoPIN1oHv4F"
      },
      "source": [
        "# **과대적합 vs 과소적합**"
      ]
    },
    {
      "cell_type": "code",
      "metadata": {
        "colab": {
          "base_uri": "https://localhost:8080/"
        },
        "id": "NZrAEBxGHuCW",
        "outputId": "b777f7f0-0584-4645-eccf-0937869a6d95"
      },
      "source": [
        "print(knr.score(train_input, train_target))"
      ],
      "execution_count": 22,
      "outputs": [
        {
          "output_type": "stream",
          "name": "stdout",
          "text": [
            "0.9698823289099255\n"
          ]
        }
      ]
    },
    {
      "cell_type": "code",
      "metadata": {
        "id": "2NNYlemeH3nE"
      },
      "source": [
        "# 값이 다른 이유는 모델을 훈련 세트와 테스트 세트에서 평가하면 보통 훈련 세트의 점수가 더 높게 나옴\n",
        "# 이유는 훈련 세트에서 훈련 했으므로..\n",
        "\n",
        "# 훈련세트에서 점수가 좋았찌만 테스트 세트에서 점수가 나빳다면 모델이 훈련 세트에 과대적합 됨\n",
        "# 반대로 훈련 세트보다 테스트 세트의 점수가 높거나 두 점수가 모두 너무 낮은 경우는 모델이 훈련 세트에 과소적합 되었다고 함\n",
        "\n",
        "# 위의 훈련 세트와 테스트 세트의 점수가 높으니 과소적합임.\n",
        "# 이를 해결하기 위해 모델을 더 복잡하게 만들면 됨"
      ],
      "execution_count": 23,
      "outputs": []
    },
    {
      "cell_type": "code",
      "metadata": {
        "colab": {
          "base_uri": "https://localhost:8080/"
        },
        "id": "vkC2e_iiIoG7",
        "outputId": "798de393-fe96-4554-c4e4-4872a9997746"
      },
      "source": [
        "# 이웃의 개수를 3으로 설정\n",
        "knr.n_neighbors = 3\n",
        "\n",
        "# 모델을 다시 훈련\n",
        "knr.fit(train_input, train_target)\n",
        "print(knr.score(train_input, train_target))"
      ],
      "execution_count": 24,
      "outputs": [
        {
          "output_type": "stream",
          "name": "stdout",
          "text": [
            "0.9804899950518966\n"
          ]
        }
      ]
    },
    {
      "cell_type": "code",
      "metadata": {
        "id": "UbyHO5OgI1RU"
      },
      "source": [
        "# k 값을 줄였더니 훈련 세트의 R^2의 점수가 높아짐"
      ],
      "execution_count": 25,
      "outputs": []
    },
    {
      "cell_type": "code",
      "metadata": {
        "colab": {
          "base_uri": "https://localhost:8080/"
        },
        "id": "M6uElUdlI75u",
        "outputId": "c4a5c301-72bd-4252-b44f-a2d418338dbd"
      },
      "source": [
        "print(knr.score(test_input, test_target))"
      ],
      "execution_count": 27,
      "outputs": [
        {
          "output_type": "stream",
          "name": "stdout",
          "text": [
            "0.974645996398761\n"
          ]
        }
      ]
    },
    {
      "cell_type": "code",
      "metadata": {
        "id": "PosuXA8wJA0U"
      },
      "source": [
        "# 테스트 세트의 점수는 훈련 세트보다 낮아졌으므로 과소적합 문제 해결\n",
        "# 또한 두 점수의 차이가 크지 않으므로 과대적홥 된 것 같지도 않음"
      ],
      "execution_count": null,
      "outputs": []
    }
  ]
}
